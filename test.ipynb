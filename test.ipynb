{
 "nbformat": 4,
 "nbformat_minor": 2,
 "metadata": {
  "language_info": {
   "name": "python",
   "codemirror_mode": {
    "name": "ipython",
    "version": 3
   },
   "version": "3.7.5"
  },
  "orig_nbformat": 2,
  "file_extension": ".py",
  "mimetype": "text/x-python",
  "name": "python",
  "npconvert_exporter": "python",
  "pygments_lexer": "ipython3",
  "version": 3
 },
 "cells": [
  {
   "cell_type": "code",
   "execution_count": 1,
   "metadata": {},
   "outputs": [
    {
     "name": "stdout",
     "output_type": "stream",
     "text": "('start_hour', 'date', 'day_of_week', 'isHoliday', 'start_zone_latitude', 'start_zone_longitude', 'end_zone_latitude', 'end_zone_longitude', 'distance', 'ETA')\n"
    }
   ],
   "source": [
    "from collections import namedtuple\n",
    "Data = namedtuple(\"Data\", [\"start_hour\", \"date\", \"day_of_week\", \"isHoliday\", \n",
    "                           \"start_zone_latitude\", \"start_zone_longitude\", \n",
    "                           \"end_zone_latitude\", \"end_zone_longitude\", \"distance\", \"ETA\"])\n",
    "print(Data._fields)"
   ]
  },
  {
   "source": [
    "import h5py\n",
    "\n",
    "with h5py.File(\"random\", \"w\") as f:\n",
    "    dset = f.create_dataset(\"mydataset\", (5, 5), dtype='f', chunks=True)\n",
    "    for i in range(3):\n",
    "        dset[i,:] = list(range(5))\n",
    "\n",
    "with h5py.File(\"random\", \"a\") as f:\n",
    "    dset = f[\"mydataset\"]\n",
    "    print(dset[:])\n",
    "    print('\\n\\n\\n')\n",
    "    dset.resize((3,5))\n",
    "    print(dset[:])\n",
    ""
   ],
   "cell_type": "code",
   "outputs": [
    {
     "output_type": "stream",
     "name": "stdout",
     "text": "[[0. 1. 2. 3. 4.]\n [0. 1. 2. 3. 4.]\n [0. 1. 2. 3. 4.]\n [0. 0. 0. 0. 0.]\n [0. 0. 0. 0. 0.]]\n\n\n\n\n[[0. 1. 2. 3. 4.]\n [0. 1. 2. 3. 4.]\n [0. 1. 2. 3. 4.]]\n"
    }
   ],
   "metadata": {},
   "execution_count": 9
  },
  {
   "cell_type": "code",
   "execution_count": null,
   "metadata": {},
   "outputs": [],
   "source": []
  }
 ]
}