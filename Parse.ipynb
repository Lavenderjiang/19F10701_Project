{
 "nbformat": 4,
 "nbformat_minor": 2,
 "metadata": {
  "language_info": {
   "name": "python",
   "codemirror_mode": {
    "name": "ipython",
    "version": 3
   },
   "version": "3.7.5"
  },
  "orig_nbformat": 2,
  "file_extension": ".py",
  "mimetype": "text/x-python",
  "name": "python",
  "npconvert_exporter": "python",
  "pygments_lexer": "ipython3",
  "version": 3
 },
 "cells": [
  {
   "cell_type": "code",
   "execution_count": 83,
   "metadata": {},
   "outputs": [],
   "source": [
    "import pandas as pd\n",
    "import h5py\n",
    "import numpy as np\n",
    "from collections import namedtuple\n",
    "import csv\n",
    "import requests\n",
    "\n",
    "\n",
    "taxi_zone_lookup_chart = \"/home/erynqian/10701/19F10701_Project/taxi _zone_lookup.csv\"\n",
    "taxi_zone_geolocation_file = \"/home/erynqian/10701/19F10701_Project/taxi_zone_lookup.hdf5\"\n",
    "datafields = [\"VendorID\",\"tpep_pickup_datetime\",\"tpep_dropoff_datetime\",\"passenger_count\",\"PULocationID\",\"DOLocationID\",\"payment_type\"]\n",
    "key = \"6fW8tAG2L3VWCJYeKQ0IwgBzJNBJpoDZ\"\n",
    "\n",
    "Data = namedtuple(\"Data\", [\"start_hour\", \"date\", \"day_of_week\", \"isHoliday\", \n",
    "                           \"start_zone_latitude\", \"start_zone_longitude\", \n",
    "                           \"end_zone_latitude\", \"end_zone_longitude\", \"distance\", \"ETA\"])\n"
   ]
  },
  {
   "cell_type": "code",
   "execution_count": 91,
   "metadata": {},
   "outputs": [
    {
     "name": "stdout",
     "output_type": "stream",
     "text": "{'lat': 35.529089, 'lng': -114.910079}\n"
    }
   ],
   "source": [
    "# location = [\"Unknown\",\"NV\",\"N/A\"]\n",
    "# location = location[0] + \", \" + location[1]\n",
    "# url = \"http://open.mapquestapi.com/geocoding/v1/address?key=\" + key + \"&location=\" + location\n",
    "# response = requests.get(url)\n",
    "# latlng = response.json()[\"results\"][0][\"locations\"][0][\"latLng\"]\n",
    "# print(latlng)"
   ]
  },
  {
   "cell_type": "code",
   "execution_count": 93,
   "metadata": {},
   "outputs": [],
   "source": [
    "\"\"\"Fetch taxi zone geo coordinates from online API\"\"\"\n",
    "# with open(taxi_zone_lookup_chart) as csv_file:\n",
    "#     csv_reader = csv.reader(csv_file, delimiter=',')\n",
    "#     first = 0\n",
    "#     for row in csv_reader:\n",
    "#         if first == 0:\n",
    "#             first += 1\n",
    "#         else:\n",
    "#             locationID, location = int(row[0]), row[1:]\n",
    "#             location = location[0] + \", \" + location[1]\n",
    "#             url = \"http://open.mapquestapi.com/geocoding/v1/address?key=\" + key + \"&location=\" + location\n",
    "#             response = requests.get(url)\n",
    "#             taxi_zone_lookup[locationID] = response.json()[\"results\"][0][\"locations\"][0][\"latLng\"]\n",
    "\n",
    "\"\"\"Store geo coordinates to hdf5 file\"\"\"\n",
    "# df = pd.read_csv(taxi_zone_lookup_chart, sep=',')\n",
    "# with h5py.File(taxi_zone_geolocation_file, \"w\") as f:\n",
    "#     dset = f.create_dataset(\"taxi_zone_geolocation\", (len(df), 3), dtype='f')\n",
    "#     for i in range(1, len(df)+1):\n",
    "#         dset[i-1] = [i, taxi_zone_lookup[i][\"lat\"], taxi_zone_lookup[i][\"lng\"]]\n",
    "\n",
    "\"\"\"Look up latitude and longitude of the taxi zone of given index\"\"\"\n",
    "def lookup_taxi_zone(index):\n",
    "    with h5py.File(taxi_zone_geolocation_file, \"r\") as f:\n",
    "        dset = f[\"taxi_zone_geolocation\"]\n",
    "        _, lat, lng = dset[index-1]\n",
    "        return lat, lng\n",
    "\n",
    "\n",
    "# TEST\n",
    "# for i in range(1, 266):\n",
    "#     print(i, lookup_taxi_zone(i))\n",
    "# print(lookup_taxi_zone(265))\n",
    "# print(lookup_taxi_zone(12))\n"
   ]
  },
  {
   "cell_type": "code",
   "execution_count": 85,
   "metadata": {},
   "outputs": [
    {
     "name": "stdout",
     "output_type": "stream",
     "text": "start_hour : 0\ndate : 211\nday_of_week : 0\nisHoliday : 0\nstart_zone_latitude : 39.78373\nstart_zone_longitude : -100.445885\nend_zone_latitude : 40.772015\nend_zone_longitude : -73.93027\ndistance : 704.0546719134582\nETA : 18.3\n"
    }
   ],
   "source": [
    "class ParsedData:\n",
    "\n",
    "    def __init__(self, row):\n",
    "        self.row = row\n",
    "    \n",
    "    def start_hour(self):\n",
    "        start_time = self.row[1].split(' ')[1]\n",
    "        start_hour = start_time.split(':')[0]\n",
    "        return int(start_hour)\n",
    "    \n",
    "    def date(self):\n",
    "        \"\"\"represent date as the kth day of the year; return k as int\"\"\"\n",
    "        date = self.row[1].split(' ')[0]\n",
    "        y,m,d = date.split('-')\n",
    "        days_in_feb = 29 if int(y) % 4 == 0 else 28\n",
    "        days_in_month = {1:31, 2:days_in_feb, 3:31, 4:30, 5:31, 6:30, 7:31, 8:31, 9:30, 10:31, 11:30, 12:31}\n",
    "        return sum([days_in_month[i] for i in range(1, int(m))]) + int(d)\n",
    "\n",
    "    def day_of_week(self):\n",
    "        date = self.row[1].split(' ')[0]\n",
    "        y,m,d = [int(i) for i in date.split('-')]\n",
    "        t = [ 0, 3, 2, 5, 0, 3, 5, 1, 4, 6, 2, 4 ] \n",
    "        y -= m < 3\n",
    "        return (( y + int(y / 4) - int(y / 100) + int(y / 400) + t[m - 1] + d) % 7) \n",
    "\n",
    "    def isHoliday(self):\n",
    "        \"\"\"    \n",
    "        National holidays only\n",
    "        reference: https://www.officeholidays.com/countries/usa/2017\n",
    "                   https://www.officeholidays.com/countries/usa/2018\n",
    "        \"\"\"\n",
    "        holidays2017 = [[1,2], [1,16], [5,29], [7,4], [9,4], [11,23], [12,25]]\n",
    "        holidays2018 = [[1,1], [1,15], [5,28], [7,4], [9,3], [11,22], [12,25]]\n",
    "        date = self.row[1].split(' ')[0]\n",
    "        y,m,d = [int(i) for i in date.split('-')]\n",
    "        holidays = holidays2017 if y == 2017 else holidays2018\n",
    "        for h in holidays:\n",
    "            if m == h[0] and d == h[1]:\n",
    "                return 1\n",
    "        return 0\n",
    "\n",
    "    def start_end_distance(self):\n",
    "        \"\"\"return 4 coordinates: start_latitude, start_longitude, end_latitude, end_longitude\"\"\"\n",
    "        pickup, dropoff = int(self.row[4]), int(self.row[5])\n",
    "        PU_lat, PU_lng = lookup_taxi_zone(pickup)\n",
    "        DO_lat, DO_lng = lookup_taxi_zone(dropoff)\n",
    "        distance = (PU_lat - DO_lat) ** 2 + (PU_lng - DO_lng) ** 2\n",
    "        return [PU_lat, PU_lng, DO_lat, DO_lng, distance]\n",
    "\n",
    "    def ETA(self):\n",
    "        \"\"\"return ETA in min\"\"\"\n",
    "        start = self.row[1].split(' ')[1].split(':')\n",
    "        end = self.row[2].split(' ')[1].split(':')\n",
    "        hour_diff = int(end[0]) - int(start[0])\n",
    "        min_diff = int(end[1]) - int(start[1])\n",
    "        sec_diff = int(end[1]) - int(start[1])\n",
    "        return hour_diff * 60 + min_diff + round(sec_diff / 60, 3)\n",
    "\n",
    "    def data(self):\n",
    "        return [self.start_hour(), self.date(), self.day_of_week(), self.isHoliday()] + \\\n",
    "                self.start_end_distance() + [self.ETA()]\n",
    "\n",
    "\n",
    "# TEST\n",
    "entry = [\"1\",\"2017-07-30 00:30:28\",\"2017-07-30 00:48:10\",\"1\",\"161\",\"7\",\"1\"]\n",
    "d = ParsedData(entry)\n",
    "for field, data in zip(Data._fields, d.data()):\n",
    "    print(field, \":\", data)"
   ]
  },
  {
   "cell_type": "code",
   "execution_count": 76,
   "metadata": {},
   "outputs": [
    {
     "name": "stdout",
     "output_type": "stream",
     "text": "/home/erynqian/10701/19F10701_Project/testData/assignment1_data-1.csv 99999\n"
    }
   ],
   "source": [
    "\"\"\"parse csv\"\"\"\n",
    "filename = \"/home/erynqian/10701/19F10701_Project/testData/assignment1_data-1.csv\"\n",
    "\n",
    "def parse_csv(filename):\n",
    "    df = pd.read_csv(filename, sep=',')\n",
    "    file_len = len(df)\n",
    "    data_len = len(Data._fields)\n",
    "\n",
    "    hdf5_filename = filename.split('.')[0] + '.hdf5'\n",
    "    with h5py.File(hdf5_filename, \"w\") as f:\n",
    "        dset = f.create_dataset(\"mydataset\", (file_len, data_len), dtype='f')\n",
    "\n",
    "        with open(filename) as csv_file:\n",
    "            csv_reader = csv.reader(csv_file, delimiter=',')\n",
    "            r = -1\n",
    "            for row in csv_reader:\n",
    "                if r == -1: #skip first line\n",
    "                    r += 1\n",
    "                    continue\n",
    "                else:\n",
    "                    parsedData = ParsedData(row)\n",
    "                    dset[r, :] = parsedData.data()\n",
    "                    r += 1"
   ]
  },
  {
   "cell_type": "code",
   "execution_count": 88,
   "metadata": {},
   "outputs": [
    {
     "name": "stdout",
     "output_type": "stream",
     "text": "(99999, 10)\n[  12.        211.          0.          0.         39.54194  -119.7895\n   39.78373  -100.445885  374.23383    10.167   ]\n"
    }
   ],
   "source": [
    "# TEST\n",
    "hdf5_filename = filename.split('.')[0] + '.hdf5'\n",
    "with h5py.File(hdf5_filename, \"r\") as f:\n",
    "    dset = f[\"mydataset\"]\n",
    "    print(dset.shape)\n",
    "    print(dset[-1])"
   ]
  },
  {
   "cell_type": "code",
   "execution_count": null,
   "metadata": {},
   "outputs": [],
   "source": []
  }
 ]
}